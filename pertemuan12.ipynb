{
 "cells": [
  {
   "cell_type": "code",
   "execution_count": 1,
   "id": "83d4987a-fc9d-4bcd-ac5f-78d1eebaf204",
   "metadata": {},
   "outputs": [],
   "source": [
    "# Muhammad Praditya Maulana / J0404221051 / TEK 59 A1"
   ]
  },
  {
   "cell_type": "code",
   "execution_count": 2,
   "id": "a9ef2805-aafa-4030-b706-e6ba03460ba5",
   "metadata": {},
   "outputs": [
    {
     "name": "stderr",
     "output_type": "stream",
     "text": [
      "2024-11-14 12:05:38.585815: I external/local_xla/xla/tsl/cuda/cudart_stub.cc:32] Could not find cuda drivers on your machine, GPU will not be used.\n"
     ]
    }
   ],
   "source": [
    "from tensorflow.keras.models import Sequential\n",
    "from tensorflow.keras.layers import Conv2D, MaxPooling2D, Flatten, Dense"
   ]
  },
  {
   "cell_type": "code",
   "execution_count": 3,
   "id": "c8dc0f2e-06f8-4615-9171-98bfb31bb024",
   "metadata": {},
   "outputs": [],
   "source": [
    "# Inisialisasi CNN\n",
    "MesinKlasifikasi = Sequential()"
   ]
  },
  {
   "cell_type": "code",
   "execution_count": 4,
   "id": "d896569b-fac3-445a-9026-6be4a9b748ba",
   "metadata": {},
   "outputs": [
    {
     "name": "stderr",
     "output_type": "stream",
     "text": [
      "/root/anaconda3/envs/ENV_PRADIT/lib/python3.9/site-packages/keras/src/layers/convolutional/base_conv.py:107: UserWarning: Do not pass an `input_shape`/`input_dim` argument to a layer. When using Sequential models, prefer using an `Input(shape)` object as the first layer in the model instead.\n",
      "  super().__init__(activity_regularizer=activity_regularizer, **kwargs)\n"
     ]
    }
   ],
   "source": [
    "# Convolution\n",
    "MesinKlasifikasi.add(Conv2D(filters = 32, kernel_size=(3,3), input_shape = (128,128,3), activation = 'relu'))"
   ]
  },
  {
   "cell_type": "code",
   "execution_count": 5,
   "id": "f7264d42-3f44-48c8-8104-26e74cf36247",
   "metadata": {},
   "outputs": [],
   "source": [
    "# Pooling\n",
    "MesinKlasifikasi.add(MaxPooling2D(pool_size=(2,2)))"
   ]
  },
  {
   "cell_type": "code",
   "execution_count": 6,
   "id": "4f8f5561-edaf-4d33-8dc9-0f80d9072c65",
   "metadata": {},
   "outputs": [],
   "source": [
    "# Menambah Convolutional Layer\n",
    "MesinKlasifikasi.add(Conv2D(32,(3,3), activation = 'relu'))\n",
    "MesinKlasifikasi.add(MaxPooling2D(pool_size = (2,2)))"
   ]
  },
  {
   "cell_type": "code",
   "execution_count": 7,
   "id": "94d3df73-e52a-490c-a8a3-4d3a8be4e25f",
   "metadata": {},
   "outputs": [],
   "source": [
    "# Flattening\n",
    "MesinKlasifikasi.add(Flatten())"
   ]
  },
  {
   "cell_type": "code",
   "execution_count": 8,
   "id": "2f71a7e5-60f7-4f56-a6bd-e62649b9ca85",
   "metadata": {},
   "outputs": [],
   "source": [
    "# Full Connection\n",
    "MesinKlasifikasi.add(Dense(units=128, activation='relu'))\n",
    "MesinKlasifikasi.add(Dense(units=1, activation='sigmoid'))"
   ]
  },
  {
   "cell_type": "code",
   "execution_count": 9,
   "id": "ebd285a3-b582-4113-b894-ed32952fe85b",
   "metadata": {},
   "outputs": [],
   "source": [
    "# Menjalankan CNN\n",
    "MesinKlasifikasi.compile(optimizer = 'adam', loss='binary_crossentropy', metrics=['accuracy'])"
   ]
  },
  {
   "cell_type": "code",
   "execution_count": 10,
   "id": "ca101633-dba4-4e75-8f66-28227ae211d4",
   "metadata": {},
   "outputs": [],
   "source": [
    "# Menjalankan CNN ke Training dan Testing\n",
    "from tensorflow.keras.preprocessing.image import ImageDataGenerator"
   ]
  },
  {
   "cell_type": "code",
   "execution_count": 16,
   "id": "97d281d7-7c5a-4e18-86b5-c3994f067537",
   "metadata": {},
   "outputs": [
    {
     "name": "stdout",
     "output_type": "stream",
     "text": [
      "Found 8000 images belonging to 2 classes.\n",
      "Found 2000 images belonging to 2 classes.\n"
     ]
    }
   ],
   "source": [
    "train_datagen = ImageDataGenerator(rescale = 1./255,\n",
    "                                 shear_range = 0.2,\n",
    "                                 zoom_range = 0.2,\n",
    "                                 horizontal_flip = True)\n",
    "\n",
    "test_datagen = ImageDataGenerator(rescale = 1./255)\n",
    "\n",
    "training_set = train_datagen.flow_from_directory('dataset/dataset/training_set',\n",
    "                                                target_size = (128,128),\n",
    "                                                batch_size = 32,\n",
    "                                                class_mode = 'binary')\n",
    "\n",
    "test_set = test_datagen.flow_from_directory('dataset/dataset/test_set',\n",
    "                                                target_size = (128,128),\n",
    "                                                batch_size = 32,\n",
    "                                                class_mode = 'binary')"
   ]
  },
  {
   "cell_type": "code",
   "execution_count": 20,
   "id": "116404e6-5942-489b-b547-698d41d3240d",
   "metadata": {},
   "outputs": [
    {
     "name": "stdout",
     "output_type": "stream",
     "text": [
      "\u001b[1m250/250\u001b[0m \u001b[32m━━━━━━━━━━━━━━━━━━━━\u001b[0m\u001b[37m\u001b[0m \u001b[1m811s\u001b[0m 3s/step - accuracy: 0.6303 - loss: 0.6466 - val_accuracy: 0.6900 - val_loss: 0.5934\n"
     ]
    },
    {
     "data": {
      "text/plain": [
       "<keras.src.callbacks.history.History at 0x7f94ff1d70a0>"
      ]
     },
     "execution_count": 20,
     "metadata": {},
     "output_type": "execute_result"
    }
   ],
   "source": [
    "MesinKlasifikasi.fit(training_set,\n",
    "                              steps_per_epoch = int(8000/32),\n",
    "                              epochs = 55,\n",
    "                              validation_data = test_set,\n",
    "                              validation_steps = int(2000/32))"
   ]
  },
  {
   "cell_type": "code",
   "execution_count": null,
   "id": "e4a61973-40c2-4267-9b71-c0c76a02dc67",
   "metadata": {},
   "outputs": [],
   "source": []
  }
 ],
 "metadata": {
  "kernelspec": {
   "display_name": "Python 3 (ipykernel)",
   "language": "python",
   "name": "python3"
  },
  "language_info": {
   "codemirror_mode": {
    "name": "ipython",
    "version": 3
   },
   "file_extension": ".py",
   "mimetype": "text/x-python",
   "name": "python",
   "nbconvert_exporter": "python",
   "pygments_lexer": "ipython3",
   "version": "3.9.12"
  }
 },
 "nbformat": 4,
 "nbformat_minor": 5
}
